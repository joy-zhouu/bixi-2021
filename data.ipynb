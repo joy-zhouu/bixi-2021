{
 "cells": [
  {
   "cell_type": "code",
   "execution_count": 1,
   "metadata": {},
   "outputs": [],
   "source": [
    "import pandas as pd\n",
    "import numpy as np\n",
    "import glob"
   ]
  },
  {
   "cell_type": "code",
   "execution_count": 2,
   "metadata": {},
   "outputs": [],
   "source": [
    "all_files = [i for i in glob.glob('*.{}'.format('csv'))]\n",
    "all_files.remove('stations.csv')"
   ]
  },
  {
   "cell_type": "code",
   "execution_count": 3,
   "metadata": {},
   "outputs": [],
   "source": [
    "data = pd.concat([pd.read_csv(f) for f in all_files])\n",
    "#combined_csv.to_csv(\"2021.csv\", index=False, encoding='utf-8-sig')\n",
    "#data = pd.read_csv('2021.csv')"
   ]
  },
  {
   "cell_type": "code",
   "execution_count": 4,
   "metadata": {},
   "outputs": [],
   "source": [
    "#data = data[:10000]\n",
    "# Create new fields\n",
    "data.insert(0, 'id', np.arange(len(data)), int)"
   ]
  },
  {
   "cell_type": "code",
   "execution_count": 13,
   "metadata": {},
   "outputs": [],
   "source": [
    "start = data['emplacement_pk_start'].value_counts(dropna=False)\n",
    "end = data['emplacement_pk_end'].value_counts(dropna=False)"
   ]
  },
  {
   "cell_type": "code",
   "execution_count": 14,
   "metadata": {},
   "outputs": [
    {
     "name": "stdout",
     "output_type": "stream",
     "text": [
      "       Trips Started  Trips Ended\n",
      "-1            1287.0         1445\n",
      " 10           4226.0         4591\n",
      " 13           7719.0         8552\n",
      " 17           2501.0         2710\n",
      " 21           5622.0         3585\n",
      "...              ...          ...\n",
      " 1131         1037.0         1097\n",
      " 1132           31.0           28\n",
      " 1133          201.0          184\n",
      " 1134           88.0           86\n",
      " 1135           46.0           42\n",
      "\n",
      "[824 rows x 2 columns]\n"
     ]
    }
   ],
   "source": [
    "frame = {'Trips Started': start, 'Trips Ended': end}\n",
    "result = pd.DataFrame(frame)\n",
    "#print(result)"
   ]
  },
  {
   "cell_type": "code",
   "execution_count": 16,
   "metadata": {},
   "outputs": [
    {
     "name": "stdout",
     "output_type": "stream",
     "text": [
      "       Total Trips  Trips Started  Trips Ended\n",
      "-1          2732.0         1287.0         1445\n",
      " 10         8818.0         4226.0         4591\n",
      " 13        16273.0         7719.0         8552\n",
      " 17         5214.0         2501.0         2710\n",
      " 21         9211.0         5622.0         3585\n",
      "...            ...            ...          ...\n",
      " 1131       2953.0         1037.0         1097\n",
      " 1132        879.0           31.0           28\n",
      " 1133       1206.0          201.0          184\n",
      " 1134        996.0           88.0           86\n",
      " 1135        911.0           46.0           42\n",
      "\n",
      "[824 rows x 3 columns]\n"
     ]
    }
   ],
   "source": [
    "result.insert(0, 'Total Trips', np.arange(len(result)), int)\n",
    "result['Total Trips'] = result.sum(axis=1)\n",
    "#print(result)"
   ]
  },
  {
   "cell_type": "code",
   "execution_count": 18,
   "metadata": {},
   "outputs": [],
   "source": [
    "result['Station'] = result.index"
   ]
  },
  {
   "cell_type": "code",
   "execution_count": 6,
   "metadata": {},
   "outputs": [],
   "source": [
    "stations = pd.read_csv('stations.csv')"
   ]
  },
  {
   "cell_type": "code",
   "execution_count": 27,
   "metadata": {},
   "outputs": [
    {
     "name": "stdout",
     "output_type": "stream",
     "text": [
      "     Total Trips  Trips Started  Trips Ended  Station  \\\n",
      "0         8818.0         4226.0         4591       10   \n",
      "1        16273.0         7719.0         8552       13   \n",
      "2         5214.0         2501.0         2710       17   \n",
      "3         9211.0         5622.0         3585       21   \n",
      "4         7447.0         3383.0         4059       31   \n",
      "..           ...            ...          ...      ...   \n",
      "608       1534.0          435.0          468      940   \n",
      "609      23552.0        11449.0        11471      941   \n",
      "610      14059.0         6854.0         6572      942   \n",
      "611       1960.0          651.0          674      944   \n",
      "612       1911.0          641.0          634      945   \n",
      "\n",
      "                                            name   latitude  longitude  \n",
      "0    Métro Angrignon (Lamont /  des Trinitaires)  45.446910 -73.603630  \n",
      "1         Métro de l'Église (Ross / de l'Église)  45.462726 -73.565959  \n",
      "2                              Tolhurst / Fleury  45.544149 -73.667520  \n",
      "3                       St-Christophe / Cherrier  45.520290 -73.568119  \n",
      "4                          Lespérance / de Rouen  45.538839 -73.552779  \n",
      "..                                           ...        ...        ...  \n",
      "608                St-Joseph /21e avenue Lachine  45.433557 -73.684043  \n",
      "609                    André-Laurendeau / Rachel  45.542898 -73.561846  \n",
      "610                        des Érables / Laurier  45.538461 -73.577679  \n",
      "611                              Robin / 15e rue  45.559495 -73.698918  \n",
      "612                            Legrand / Cartier  45.552298 -73.707383  \n",
      "\n",
      "[613 rows x 7 columns]\n"
     ]
    }
   ],
   "source": [
    "result2 = result.copy()\n",
    "stations = stations.rename({'pk':'Station'}, axis='columns')\n",
    "\n",
    "result2 = result2.merge(stations, on='Station')"
   ]
  },
  {
   "cell_type": "code",
   "execution_count": 100,
   "metadata": {},
   "outputs": [],
   "source": [
    "#for val in range(len(data['id'])):\n",
    "    #station_start_index = stations['pk'][stations['pk'] == data['emplacement_pk_start'].iloc[val]].index[0]\n",
    "    #station_stop_index = stations['pk'][stations['pk'] == data['emplacement_pk_end'].iloc[val]].index[0]\n",
    "\n",
    "    #data.loc[val, 'start_x'] = stations.iat[station_start_index, x]\n",
    "    #data.loc[val, 'start_y'] = stations.iat[station_start_index, y]\n",
    "    #data.loc[val, 'end_x'] = stations.iat[station_stop_index, x]\n",
    "    #data.loc[val, 'end_y'] = stations.iat[station_stop_index, y]"
   ]
  },
  {
   "cell_type": "code",
   "execution_count": 29,
   "metadata": {},
   "outputs": [],
   "source": [
    "result2 = result2[['Station', 'name', 'latitude', 'longitude', 'Trips Started', 'Trips Ended', 'Total Trips']]\n",
    "result2.to_csv('2021.csv', index=False)"
   ]
  }
 ],
 "metadata": {
  "interpreter": {
   "hash": "1bb399e2059e9c377b584d1368c3cb74105d2bba7970aa5a9284995dea5f624e"
  },
  "kernelspec": {
   "display_name": "Python 3.9.5 64-bit ('base': conda)",
   "language": "python",
   "name": "python3"
  },
  "language_info": {
   "codemirror_mode": {
    "name": "ipython",
    "version": 3
   },
   "file_extension": ".py",
   "mimetype": "text/x-python",
   "name": "python",
   "nbconvert_exporter": "python",
   "pygments_lexer": "ipython3",
   "version": "3.9.7"
  },
  "orig_nbformat": 4
 },
 "nbformat": 4,
 "nbformat_minor": 2
}
